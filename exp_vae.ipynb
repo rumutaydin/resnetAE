{
 "cells": [
  {
   "cell_type": "code",
   "execution_count": 16,
   "metadata": {},
   "outputs": [
    {
     "name": "stdout",
     "output_type": "stream",
     "text": [
      "The autoreload extension is already loaded. To reload it, use:\n",
      "  %reload_ext autoreload\n"
     ]
    }
   ],
   "source": [
    "%load_ext autoreload\n",
    "%autoreload 2\n",
    "from model_AE import AE\n",
    "import torch\n",
    "from torchsummary import summary\n",
    "import matplotlib.pyplot as plt\n",
    "import numpy as np\n",
    "import random\n",
    "from functions import create_dataloaders, train_epoch, val_epoch, init_model, dataloader_test\n",
    "import torch.optim as optim\n",
    "import datetime\n",
    "from pathlib import Path"
   ]
  },
  {
   "cell_type": "code",
   "execution_count": 14,
   "metadata": {},
   "outputs": [],
   "source": [
    "NUMWORKERS = 4\n",
    "batch_size = 2\n",
    "seed = 13\n",
    "\n",
    "lat_space = 10\n",
    "num_epochs = 20\n",
    "learning_rate = 0.0002"
   ]
  },
  {
   "cell_type": "code",
   "execution_count": 3,
   "metadata": {},
   "outputs": [
    {
     "name": "stdout",
     "output_type": "stream",
     "text": [
      "----------------------------------------------------------------\n",
      "        Layer (type)               Output Shape         Param #\n",
      "================================================================\n",
      "            Conv2d-1           [-1, 64, 56, 56]           3,200\n",
      "       BatchNorm2d-2           [-1, 64, 56, 56]             128\n",
      "              ReLU-3           [-1, 64, 56, 56]               0\n",
      "         MaxPool2d-4           [-1, 64, 28, 28]               0\n",
      "            Conv2d-5           [-1, 64, 28, 28]          36,928\n",
      "       BatchNorm2d-6           [-1, 64, 28, 28]             128\n",
      "              ReLU-7           [-1, 64, 28, 28]               0\n",
      "            Conv2d-8           [-1, 64, 28, 28]          36,928\n",
      "       BatchNorm2d-9           [-1, 64, 28, 28]             128\n",
      "          Dropout-10           [-1, 64, 28, 28]               0\n",
      "             ReLU-11           [-1, 64, 28, 28]               0\n",
      "           Conv2d-12           [-1, 64, 28, 28]          36,928\n",
      "      BatchNorm2d-13           [-1, 64, 28, 28]             128\n",
      "             ReLU-14           [-1, 64, 28, 28]               0\n",
      "           Conv2d-15           [-1, 64, 28, 28]          36,928\n",
      "      BatchNorm2d-16           [-1, 64, 28, 28]             128\n",
      "          Dropout-17           [-1, 64, 28, 28]               0\n",
      "             ReLU-18           [-1, 64, 28, 28]               0\n",
      "           Conv2d-19          [-1, 128, 28, 28]          73,856\n",
      "      BatchNorm2d-20          [-1, 128, 28, 28]             256\n",
      "             ReLU-21          [-1, 128, 28, 28]               0\n",
      "           Conv2d-22          [-1, 128, 28, 28]         147,584\n",
      "      BatchNorm2d-23          [-1, 128, 28, 28]             256\n",
      "          Dropout-24          [-1, 128, 28, 28]               0\n",
      "           Conv2d-25          [-1, 128, 28, 28]           8,320\n",
      "             ReLU-26          [-1, 128, 28, 28]               0\n",
      "           Conv2d-27          [-1, 128, 28, 28]         147,584\n",
      "      BatchNorm2d-28          [-1, 128, 28, 28]             256\n",
      "             ReLU-29          [-1, 128, 28, 28]               0\n",
      "           Conv2d-30          [-1, 128, 28, 28]         147,584\n",
      "      BatchNorm2d-31          [-1, 128, 28, 28]             256\n",
      "          Dropout-32          [-1, 128, 28, 28]               0\n",
      "             ReLU-33          [-1, 128, 28, 28]               0\n",
      "           Conv2d-34          [-1, 256, 14, 14]         295,168\n",
      "      BatchNorm2d-35          [-1, 256, 14, 14]             512\n",
      "             ReLU-36          [-1, 256, 14, 14]               0\n",
      "           Conv2d-37          [-1, 256, 14, 14]         590,080\n",
      "      BatchNorm2d-38          [-1, 256, 14, 14]             512\n",
      "          Dropout-39          [-1, 256, 14, 14]               0\n",
      "           Conv2d-40          [-1, 256, 14, 14]          33,024\n",
      "             ReLU-41          [-1, 256, 14, 14]               0\n",
      "           Conv2d-42          [-1, 256, 14, 14]         590,080\n",
      "      BatchNorm2d-43          [-1, 256, 14, 14]             512\n",
      "             ReLU-44          [-1, 256, 14, 14]               0\n",
      "           Conv2d-45          [-1, 256, 14, 14]         590,080\n",
      "      BatchNorm2d-46          [-1, 256, 14, 14]             512\n",
      "          Dropout-47          [-1, 256, 14, 14]               0\n",
      "             ReLU-48          [-1, 256, 14, 14]               0\n",
      "           Conv2d-49            [-1, 512, 7, 7]       1,180,160\n",
      "      BatchNorm2d-50            [-1, 512, 7, 7]           1,024\n",
      "             ReLU-51            [-1, 512, 7, 7]               0\n",
      "           Conv2d-52            [-1, 512, 7, 7]       2,359,808\n",
      "      BatchNorm2d-53            [-1, 512, 7, 7]           1,024\n",
      "          Dropout-54            [-1, 512, 7, 7]               0\n",
      "           Conv2d-55            [-1, 512, 7, 7]         131,584\n",
      "             ReLU-56            [-1, 512, 7, 7]               0\n",
      "           Conv2d-57            [-1, 512, 7, 7]       2,359,808\n",
      "      BatchNorm2d-58            [-1, 512, 7, 7]           1,024\n",
      "             ReLU-59            [-1, 512, 7, 7]               0\n",
      "           Conv2d-60            [-1, 512, 7, 7]       2,359,808\n",
      "      BatchNorm2d-61            [-1, 512, 7, 7]           1,024\n",
      "          Dropout-62            [-1, 512, 7, 7]               0\n",
      "             ReLU-63            [-1, 512, 7, 7]               0\n",
      "        AvgPool2d-64            [-1, 512, 1, 1]               0\n",
      "          Flatten-65                  [-1, 512]               0\n",
      "           Linear-66                   [-1, 10]           5,130\n",
      "           Linear-67                   [-1, 10]           5,130\n",
      "          Encoder-68       [[-1, 10], [-1, 10]]               0\n",
      "           Linear-69                  [-1, 512]           5,632\n",
      "        Unflatten-70            [-1, 512, 1, 1]               0\n",
      "  ConvTranspose2d-71            [-1, 512, 7, 7]       2,359,808\n",
      "      BatchNorm2d-72            [-1, 512, 7, 7]           1,024\n",
      "             ReLU-73            [-1, 512, 7, 7]               0\n",
      "  ConvTranspose2d-74            [-1, 512, 7, 7]       2,359,808\n",
      "      BatchNorm2d-75            [-1, 512, 7, 7]           1,024\n",
      "          Dropout-76            [-1, 512, 7, 7]               0\n",
      "             ReLU-77            [-1, 512, 7, 7]               0\n",
      "  ConvTranspose2d-78            [-1, 512, 7, 7]       2,359,808\n",
      "      BatchNorm2d-79            [-1, 512, 7, 7]           1,024\n",
      "             ReLU-80            [-1, 512, 7, 7]               0\n",
      "  ConvTranspose2d-81          [-1, 256, 14, 14]       1,179,904\n",
      "      BatchNorm2d-82          [-1, 256, 14, 14]             512\n",
      "          Dropout-83          [-1, 256, 14, 14]               0\n",
      "  ConvTranspose2d-84          [-1, 256, 14, 14]         131,328\n",
      "             ReLU-85          [-1, 256, 14, 14]               0\n",
      "  ConvTranspose2d-86          [-1, 256, 14, 14]         590,080\n",
      "      BatchNorm2d-87          [-1, 256, 14, 14]             512\n",
      "             ReLU-88          [-1, 256, 14, 14]               0\n",
      "  ConvTranspose2d-89          [-1, 256, 14, 14]         590,080\n",
      "      BatchNorm2d-90          [-1, 256, 14, 14]             512\n",
      "          Dropout-91          [-1, 256, 14, 14]               0\n",
      "             ReLU-92          [-1, 256, 14, 14]               0\n",
      "  ConvTranspose2d-93          [-1, 256, 14, 14]         590,080\n",
      "      BatchNorm2d-94          [-1, 256, 14, 14]             512\n",
      "             ReLU-95          [-1, 256, 14, 14]               0\n",
      "  ConvTranspose2d-96          [-1, 128, 28, 28]         295,040\n",
      "      BatchNorm2d-97          [-1, 128, 28, 28]             256\n",
      "          Dropout-98          [-1, 128, 28, 28]               0\n",
      "  ConvTranspose2d-99          [-1, 128, 28, 28]          32,896\n",
      "            ReLU-100          [-1, 128, 28, 28]               0\n",
      " ConvTranspose2d-101          [-1, 128, 28, 28]         147,584\n",
      "     BatchNorm2d-102          [-1, 128, 28, 28]             256\n",
      "            ReLU-103          [-1, 128, 28, 28]               0\n",
      " ConvTranspose2d-104          [-1, 128, 28, 28]         147,584\n",
      "     BatchNorm2d-105          [-1, 128, 28, 28]             256\n",
      "         Dropout-106          [-1, 128, 28, 28]               0\n",
      "            ReLU-107          [-1, 128, 28, 28]               0\n",
      " ConvTranspose2d-108          [-1, 128, 28, 28]         147,584\n",
      "     BatchNorm2d-109          [-1, 128, 28, 28]             256\n",
      "            ReLU-110          [-1, 128, 28, 28]               0\n",
      " ConvTranspose2d-111           [-1, 64, 28, 28]          73,792\n",
      "     BatchNorm2d-112           [-1, 64, 28, 28]             128\n",
      "         Dropout-113           [-1, 64, 28, 28]               0\n",
      " ConvTranspose2d-114           [-1, 64, 28, 28]           8,256\n",
      "            ReLU-115           [-1, 64, 28, 28]               0\n",
      " ConvTranspose2d-116           [-1, 64, 28, 28]          36,928\n",
      "     BatchNorm2d-117           [-1, 64, 28, 28]             128\n",
      "            ReLU-118           [-1, 64, 28, 28]               0\n",
      " ConvTranspose2d-119           [-1, 64, 28, 28]          36,928\n",
      "     BatchNorm2d-120           [-1, 64, 28, 28]             128\n",
      "         Dropout-121           [-1, 64, 28, 28]               0\n",
      "            ReLU-122           [-1, 64, 28, 28]               0\n",
      " ConvTranspose2d-123           [-1, 64, 28, 28]          36,928\n",
      "     BatchNorm2d-124           [-1, 64, 28, 28]             128\n",
      "            ReLU-125           [-1, 64, 28, 28]               0\n",
      " ConvTranspose2d-126           [-1, 64, 28, 28]          36,928\n",
      "     BatchNorm2d-127           [-1, 64, 28, 28]             128\n",
      "         Dropout-128           [-1, 64, 28, 28]               0\n",
      "            ReLU-129           [-1, 64, 28, 28]               0\n",
      "        Upsample-130           [-1, 64, 56, 56]               0\n",
      " ConvTranspose2d-131            [-1, 1, 56, 56]           3,137\n",
      "         Decoder-132            [-1, 1, 56, 56]               0\n",
      "================================================================\n",
      "Total params: 22,360,405\n",
      "Trainable params: 22,360,405\n",
      "Non-trainable params: 0\n",
      "----------------------------------------------------------------\n",
      "Input size (MB): 0.01\n",
      "Forward/backward pass size (MB): 58.44\n",
      "Params size (MB): 85.30\n",
      "Estimated Total Size (MB): 143.75\n",
      "----------------------------------------------------------------\n"
     ]
    }
   ],
   "source": [
    "model = AE(lat_space=lat_space, device='cuda', variational=True)\n",
    "summary(model, (1, 56, 56))"
   ]
  },
  {
   "cell_type": "code",
   "execution_count": 8,
   "metadata": {},
   "outputs": [],
   "source": [
    "use_gpu = torch.cuda.is_available()\n",
    "device = 'cuda' if use_gpu else 'cpu'\n",
    "if seed is not None:\n",
    "    seed = int(seed)\n",
    "    random.seed(seed)\n",
    "    np.random.seed(seed)\n",
    "    torch.manual_seed(seed)\n",
    "    torch.backends.cudnn.deterministic = True"
   ]
  },
  {
   "cell_type": "code",
   "execution_count": 17,
   "metadata": {},
   "outputs": [
    {
     "name": "stderr",
     "output_type": "stream",
     "text": [
      "938it [04:13,  3.70it/s]                         \n",
      "  0%|          | 0/937 [00:00<?, ?it/s]"
     ]
    },
    {
     "name": "stdout",
     "output_type": "stream",
     "text": [
      "EPOCH 1/20 \tLOSS for train:1490.480876\n"
     ]
    },
    {
     "name": "stderr",
     "output_type": "stream",
     "text": [
      "938it [04:18,  3.63it/s]                         \n",
      "  0%|          | 0/937 [00:00<?, ?it/s]"
     ]
    },
    {
     "name": "stdout",
     "output_type": "stream",
     "text": [
      "EPOCH 2/20 \tLOSS for train:1042.373274\n"
     ]
    },
    {
     "name": "stderr",
     "output_type": "stream",
     "text": [
      "938it [04:19,  3.61it/s]                         \n",
      "  0%|          | 0/937 [00:00<?, ?it/s]"
     ]
    },
    {
     "name": "stdout",
     "output_type": "stream",
     "text": [
      "EPOCH 3/20 \tLOSS for train:1010.938477\n"
     ]
    },
    {
     "name": "stderr",
     "output_type": "stream",
     "text": [
      "938it [04:19,  3.62it/s]                         \n",
      "  0%|          | 0/937 [00:00<?, ?it/s]"
     ]
    },
    {
     "name": "stdout",
     "output_type": "stream",
     "text": [
      "EPOCH 4/20 \tLOSS for train:993.007352\n"
     ]
    },
    {
     "name": "stderr",
     "output_type": "stream",
     "text": [
      "938it [04:19,  3.62it/s]                         \n",
      "  0%|          | 0/937 [00:00<?, ?it/s]"
     ]
    },
    {
     "name": "stdout",
     "output_type": "stream",
     "text": [
      "EPOCH 5/20 \tLOSS for train:980.857831\n"
     ]
    },
    {
     "name": "stderr",
     "output_type": "stream",
     "text": [
      "938it [04:18,  3.63it/s]                         \n",
      "  0%|          | 0/937 [00:00<?, ?it/s]"
     ]
    },
    {
     "name": "stdout",
     "output_type": "stream",
     "text": [
      "EPOCH 6/20 \tLOSS for train:971.456307\n"
     ]
    },
    {
     "name": "stderr",
     "output_type": "stream",
     "text": [
      "938it [04:20,  3.60it/s]                         \n",
      "  0%|          | 0/937 [00:00<?, ?it/s]"
     ]
    },
    {
     "name": "stdout",
     "output_type": "stream",
     "text": [
      "EPOCH 7/20 \tLOSS for train:964.904598\n"
     ]
    },
    {
     "name": "stderr",
     "output_type": "stream",
     "text": [
      "938it [04:20,  3.59it/s]                         \n",
      "  0%|          | 0/937 [00:00<?, ?it/s]"
     ]
    },
    {
     "name": "stdout",
     "output_type": "stream",
     "text": [
      "EPOCH 8/20 \tLOSS for train:958.477323\n"
     ]
    },
    {
     "name": "stderr",
     "output_type": "stream",
     "text": [
      "938it [04:21,  3.59it/s]                         \n",
      "  0%|          | 0/937 [00:00<?, ?it/s]"
     ]
    },
    {
     "name": "stdout",
     "output_type": "stream",
     "text": [
      "EPOCH 9/20 \tLOSS for train:953.867294\n"
     ]
    },
    {
     "name": "stderr",
     "output_type": "stream",
     "text": [
      "938it [04:21,  3.59it/s]                         \n",
      "  0%|          | 0/937 [00:00<?, ?it/s]"
     ]
    },
    {
     "name": "stdout",
     "output_type": "stream",
     "text": [
      "EPOCH 10/20 \tLOSS for train:950.924363\n"
     ]
    },
    {
     "name": "stderr",
     "output_type": "stream",
     "text": [
      "938it [04:20,  3.60it/s]                         \n",
      "  0%|          | 0/937 [00:00<?, ?it/s]"
     ]
    },
    {
     "name": "stdout",
     "output_type": "stream",
     "text": [
      "EPOCH 11/20 \tLOSS for train:947.509874\n"
     ]
    },
    {
     "name": "stderr",
     "output_type": "stream",
     "text": [
      "938it [04:19,  3.62it/s]                         \n",
      "  0%|          | 0/937 [00:00<?, ?it/s]"
     ]
    },
    {
     "name": "stdout",
     "output_type": "stream",
     "text": [
      "EPOCH 12/20 \tLOSS for train:944.671493\n"
     ]
    },
    {
     "name": "stderr",
     "output_type": "stream",
     "text": [
      "938it [04:17,  3.64it/s]                         \n",
      "  0%|          | 0/937 [00:00<?, ?it/s]"
     ]
    },
    {
     "name": "stdout",
     "output_type": "stream",
     "text": [
      "EPOCH 13/20 \tLOSS for train:942.006513\n"
     ]
    },
    {
     "name": "stderr",
     "output_type": "stream",
     "text": [
      "938it [04:18,  3.63it/s]                         \n",
      "  0%|          | 0/937 [00:00<?, ?it/s]"
     ]
    },
    {
     "name": "stdout",
     "output_type": "stream",
     "text": [
      "EPOCH 14/20 \tLOSS for train:939.680310\n"
     ]
    },
    {
     "name": "stderr",
     "output_type": "stream",
     "text": [
      "938it [04:19,  3.62it/s]                         \n",
      "  0%|          | 0/937 [00:00<?, ?it/s]"
     ]
    },
    {
     "name": "stdout",
     "output_type": "stream",
     "text": [
      "EPOCH 15/20 \tLOSS for train:937.598118\n"
     ]
    },
    {
     "name": "stderr",
     "output_type": "stream",
     "text": [
      "938it [04:18,  3.63it/s]                         \n",
      "  0%|          | 0/937 [00:00<?, ?it/s]"
     ]
    },
    {
     "name": "stdout",
     "output_type": "stream",
     "text": [
      "EPOCH 16/20 \tLOSS for train:936.061222\n"
     ]
    },
    {
     "name": "stderr",
     "output_type": "stream",
     "text": [
      "938it [04:17,  3.64it/s]                         \n",
      "  0%|          | 0/937 [00:00<?, ?it/s]"
     ]
    },
    {
     "name": "stdout",
     "output_type": "stream",
     "text": [
      "EPOCH 17/20 \tLOSS for train:934.850716\n"
     ]
    },
    {
     "name": "stderr",
     "output_type": "stream",
     "text": [
      "938it [04:17,  3.64it/s]                         \n",
      "  0%|          | 0/937 [00:00<?, ?it/s]"
     ]
    },
    {
     "name": "stdout",
     "output_type": "stream",
     "text": [
      "EPOCH 18/20 \tLOSS for train:933.169760\n"
     ]
    },
    {
     "name": "stderr",
     "output_type": "stream",
     "text": [
      "938it [04:21,  3.59it/s]                         \n",
      "  0%|          | 0/937 [00:00<?, ?it/s]"
     ]
    },
    {
     "name": "stdout",
     "output_type": "stream",
     "text": [
      "EPOCH 19/20 \tLOSS for train:931.306682\n"
     ]
    },
    {
     "name": "stderr",
     "output_type": "stream",
     "text": [
      "938it [04:21,  3.59it/s]                         \n"
     ]
    },
    {
     "name": "stdout",
     "output_type": "stream",
     "text": [
      "EPOCH 20/20 \tLOSS for train:930.734770\n",
      "Total training time: 1:26:24.050532\n"
     ]
    },
    {
     "data": {
      "text/plain": [
       "<matplotlib.image.AxesImage at 0x28c2a1b9d90>"
      ]
     },
     "execution_count": 17,
     "metadata": {},
     "output_type": "execute_result"
    },
    {
     "data": {
      "image/png": "[encoded data removed]",
      "text/plain": [
       "<Figure size 640x480 with 1 Axes>"
      ]
     },
     "metadata": {},
     "output_type": "display_data"
    },
    {
     "data": {
      "image/png": "[encoded data removed]",
      "text/plain": [
       "<Figure size 640x480 with 1 Axes>"
      ]
     },
     "metadata": {},
     "output_type": "display_data"
    }
   ],
   "source": [
    "\n",
    "vae, metrics = init_model('vae', Path('C:\\\\Users\\\\Robinumut\\\\Desktop\\\\archive'), device, lat_space, variational=True)\n",
    "tr, tst = dataloader_test()\n",
    "\n",
    "def loss_fn(_h, x, mean, logvar):\n",
    "    x = (x + 1.0) / 2.0 \n",
    "    repr_loss = torch.nn.functional.binary_cross_entropy(_h, x, reduction='sum')\n",
    "    KLD = -0.5 * torch.sum(1+logvar-mean.pow(2)-logvar.exp())\n",
    "\n",
    "    return repr_loss + KLD\n",
    "\n",
    "loss_func = loss_fn\n",
    "optim = optim.Adam(vae.parameters(), lr=learning_rate)\n",
    "\n",
    "t = datetime.datetime.now()\n",
    "for epoch in range(1, num_epochs+1):\n",
    "    train_loss = train_epoch(vae, tr, loss_func, optim, vae=True)\n",
    "    #val_loss = val_epoch(ae, tst, loss_fn)\n",
    "\n",
    "    print('EPOCH {}/{} \\tLOSS for train:'\n",
    "            '{:3f}'\n",
    "            .format(epoch, num_epochs, train_loss))\n",
    "    #metrics.append(train_loss, val_loss)\n",
    "\n",
    "#metrics.plot(f'Variational Autoencoder')\n",
    "#ae.plot_outputs(tst.dataset, 5)\n",
    "print(\"Total training time:\",datetime.datetime.now() - t)\n",
    "\n",
    "vae.eval()\n",
    "with torch.no_grad():\n",
    "    for data, _ in tst:\n",
    "        \n",
    "        x = data.to(device)\n",
    "\n",
    "        _h, _, _ = model(x)\n",
    "        break\n",
    "\n",
    "fig = plt.figure()\n",
    "plt.imshow(x[0].cpu().squeeze().numpy(), cmap='gist_gray')\n",
    "\n",
    "fig = plt.figure()\n",
    "plt.imshow(_h[0].cpu().squeeze().numpy(), cmap='gist_gray')\n"
   ]
  }
 ],
 "metadata": {
  "kernelspec": {
   "display_name": "Python 3",
   "language": "python",
   "name": "python3"
  },
  "language_info": {
   "codemirror_mode": {
    "name": "ipython",
    "version": 3
   },
   "file_extension": ".py",
   "mimetype": "text/x-python",
   "name": "python",
   "nbconvert_exporter": "python",
   "pygments_lexer": "ipython3",
   "version": "3.9.0"
  }
 },
 "nbformat": 4,
 "nbformat_minor": 2
}
